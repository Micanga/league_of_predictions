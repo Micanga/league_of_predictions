{
 "cells": [
  {
   "cell_type": "code",
   "execution_count": null,
   "metadata": {},
   "outputs": [],
   "source": [
    "\n",
    "import pandas as pd\n",
    "\n",
    "# 1. Loading the data\n",
    "data = pd.read_csv('../data/high_diamond_ranked_10min.csv')\n",
    "\n",
    "# 2. Displaying the dataframe\n",
    "data\n",
    "\t"
   ]
  }
 ],
 "metadata": {},
 "nbformat": 4,
 "nbformat_minor": 4
}

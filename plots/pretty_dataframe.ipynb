{
 "cells": [
  {
   "cell_type": "code",
   "execution_count": null,
   "metadata": {},
   "outputs": [],
   "source": [
    "import pandas as pd\n",
    "\n",
    "# 1. Loading the data\n",
    "data = pd.read_csv('../data/high_diamond_ranked_10min.csv')\n",
    "\n",
    "# 2. Displaying the dataframe\n",
    "data"
   ]
  },
  {
   "cell_type": "code",
   "execution_count": null,
   "metadata": {},
   "outputs": [],
   "source": [
    "import pandas as pd\n",
    "\n",
    "# 1. Loading the data\n",
    "data = pd.read_csv('../data/pre_processed_high_diamond_ranked_10min.csv')\n",
    "\n",
    "# 2. Displaying the dataframe\n",
    "data"
   ]
  }
 ],
 "metadata": {},
 "nbformat": 4,
 "nbformat_minor": 2
}
